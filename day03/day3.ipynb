{
 "cells": [
  {
   "cell_type": "code",
   "execution_count": 2,
   "id": "fb398bea-c97a-40c0-a9ae-c11a2c6aec95",
   "metadata": {},
   "outputs": [],
   "source": [
    "# This is a notebook file for assignmnet 2"
   ]
  },
  {
   "cell_type": "code",
   "execution_count": 10,
   "id": "60f5b80a-7383-4e2b-9bd1-90aa3f6f1b59",
   "metadata": {},
   "outputs": [
    {
     "name": "stdin",
     "output_type": "stream",
     "text": [
      "Enter a rectangle's width: 5\n",
      "Enter a rectangle's length: 7\n"
     ]
    }
   ],
   "source": [
    "# Rectangle data\n",
    "width = int(input(\"Enter a rectangle's width:\"))\n",
    "length = int(input(\"Enter a rectangle's length:\"))"
   ]
  },
  {
   "cell_type": "code",
   "execution_count": 12,
   "id": "9eea48d8-a397-424c-a316-7a5f24369169",
   "metadata": {},
   "outputs": [
    {
     "name": "stdout",
     "output_type": "stream",
     "text": [
      "The area of the rectangle is 35.\n"
     ]
    }
   ],
   "source": [
    "area_rectangle = width*length\n",
    "print (f\"The area of the rectangle is {area_rectangle}.\")"
   ]
  },
  {
   "cell_type": "code",
   "execution_count": 13,
   "id": "52f8ecae-775d-4efc-b846-1c08a1d05ade",
   "metadata": {},
   "outputs": [
    {
     "name": "stdout",
     "output_type": "stream",
     "text": [
      "The circumference of the rectangle is 24.\n"
     ]
    }
   ],
   "source": [
    "circumference_rectangle = (2*width)+(2*length)\n",
    "print (f\"The circumference of the rectangle is {circumference_rectangle}.\")"
   ]
  },
  {
   "cell_type": "code",
   "execution_count": 14,
   "id": "a6412611-8ef7-498d-ad95-ad11bf235adf",
   "metadata": {},
   "outputs": [
    {
     "name": "stdin",
     "output_type": "stream",
     "text": [
      "Enter a rectangle's radius: 3\n"
     ]
    }
   ],
   "source": [
    "# Circle data\n",
    "radius = int(input(\"Enter a rectangle's radius:\"))\n",
    "pi = 3.14"
   ]
  },
  {
   "cell_type": "code",
   "execution_count": 15,
   "id": "233750d5-aacc-4326-aeb8-be90432cdd9f",
   "metadata": {},
   "outputs": [
    {
     "name": "stdout",
     "output_type": "stream",
     "text": [
      "The area of the circle is 28.26.\n"
     ]
    }
   ],
   "source": [
    "area_circle = pi*(radius**2)\n",
    "print (f\"The area of the circle is {area_circle}.\")"
   ]
  },
  {
   "cell_type": "code",
   "execution_count": 16,
   "id": "6c6c6b05-d375-4fdf-ba42-db7e03ccee73",
   "metadata": {},
   "outputs": [
    {
     "name": "stdout",
     "output_type": "stream",
     "text": [
      "The circumference of the circle is 18.84.\n"
     ]
    }
   ],
   "source": [
    "circumference_circle = 2*pi*radius\n",
    "print (f\"The circumference of the circle is {circumference_circle}.\")"
   ]
  },
  {
   "cell_type": "code",
   "execution_count": null,
   "id": "8c2f89e7-af2f-4d3d-9590-198cc8509e90",
   "metadata": {},
   "outputs": [],
   "source": []
  }
 ],
 "metadata": {
  "kernelspec": {
   "display_name": "Python 3 (ipykernel)",
   "language": "python",
   "name": "python3"
  },
  "language_info": {
   "codemirror_mode": {
    "name": "ipython",
    "version": 3
   },
   "file_extension": ".py",
   "mimetype": "text/x-python",
   "name": "python",
   "nbconvert_exporter": "python",
   "pygments_lexer": "ipython3",
   "version": "3.13.0"
  }
 },
 "nbformat": 4,
 "nbformat_minor": 5
}
