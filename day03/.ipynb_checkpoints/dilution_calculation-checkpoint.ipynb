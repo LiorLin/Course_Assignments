{
 "cells": [
  {
   "cell_type": "code",
   "execution_count": 37,
   "id": "8d05c543-b606-40f1-b419-e7ecf7b19115",
   "metadata": {},
   "outputs": [],
   "source": [
    "# Assignment day3\n",
    "\n",
    "# Given values\n",
    "C1_values = [100, 50, 30, 10, 5, 3, 1, 0.5, 0.3, 0.1] # Starting Conc. in mg/ml. \n",
    "V1 = 1 # Initial volume in ml \n",
    "V2 = 6.5 # Final volume in ml"
   ]
  },
  {
   "cell_type": "code",
   "execution_count": 38,
   "id": "69f6f3d0-fc4c-454a-b3b2-b7c9b16d8758",
   "metadata": {},
   "outputs": [
    {
     "name": "stdout",
     "output_type": "stream",
     "text": [
      "Initial concentration: 100 mg/mL -> Final concentration: 15.38 mg/mL\n",
      "Initial concentration: 50 mg/mL -> Final concentration: 7.69 mg/mL\n",
      "Initial concentration: 30 mg/mL -> Final concentration: 4.62 mg/mL\n",
      "Initial concentration: 10 mg/mL -> Final concentration: 1.54 mg/mL\n",
      "Initial concentration: 5 mg/mL -> Final concentration: 0.77 mg/mL\n",
      "Initial concentration: 3 mg/mL -> Final concentration: 0.46 mg/mL\n",
      "Initial concentration: 1 mg/mL -> Final concentration: 0.15 mg/mL\n",
      "Initial concentration: 0.5 mg/mL -> Final concentration: 0.08 mg/mL\n",
      "Initial concentration: 0.3 mg/mL -> Final concentration: 0.05 mg/mL\n",
      "Initial concentration: 0.1 mg/mL -> Final concentration: 0.02 mg/mL\n"
     ]
    }
   ],
   "source": [
    "# Create an empty list to store the calculated C2 values\n",
    "C2_values = []\n",
    "\n",
    "# Part 1: Calculate C2 using a for loop\n",
    "for C1 in C1_values:\n",
    "    C2 = (C1*V1)/V2 # final concentration\n",
    "    C2_values.append(C2)\n",
    "    print(f\"Initial concentration: {C1} mg/mL -> Final concentration: {C2:.2f} mg/mL\")\n"
   ]
  },
  {
   "cell_type": "code",
   "execution_count": 63,
   "id": "225a8ef3-8c3c-4efc-a8d5-a4a0c957d058",
   "metadata": {},
   "outputs": [
    {
     "name": "stdout",
     "output_type": "stream",
     "text": [
      "Calculated slopes: [0.15384615384615385, 0.15384615384615388, 0.15384615384615383, 0.15384615384615385, 0.15384615384615385, 0.15384615384615385, 0.15384615384615385, 0.15384615384615388, 0.15384615384615383]\n"
     ]
    }
   ],
   "source": [
    "# Given data: \n",
    "\n",
    "# C1_values are already listed\n",
    "# C2_values are already listed\n",
    "\n",
    "# Create an empty list to store slope values\n",
    "slopes = []\n",
    "\n",
    "# Calculate the slope for each consecutive pair of points\n",
    "for i in range(1, len(C1_values)):\n",
    "    x1, x2 = C1_values[i - 1], C1_values[i]\n",
    "    y1, y2 = C2_values[i - 1], C2_values[i]\n",
    "    slope = (y2-y1)/(x2-x1)  # TODO: Calculate the slope using the formula (y2 - y1) / (x2 - x1)\n",
    "\n",
    "    slopes.append(slope)\n",
    " \n",
    "# Print the list of calculated slopes\n",
    "print(\"Calculated slopes:\", slopes)"
   ]
  },
  {
   "cell_type": "code",
   "execution_count": 92,
   "id": "5fc0443b-573a-4fe5-afcc-2b4cce52ce48",
   "metadata": {},
   "outputs": [
    {
     "name": "stdout",
     "output_type": "stream",
     "text": [
      "For sample 1: use 2.53 ul RNA and add 7.47 ul of UPW.\n",
      "For sample 2: use 2.65 ul RNA and add 7.35 ul of UPW.\n",
      "For sample 3: use 2.34 ul RNA and add 7.66 ul of UPW.\n",
      "For sample 4: use 2.49 ul RNA and add 7.51 ul of UPW.\n",
      "For sample 5: use 2.31 ul RNA and add 7.69 ul of UPW.\n",
      "For sample 6: use 2.48 ul RNA and add 7.52 ul of UPW.\n"
     ]
    }
   ],
   "source": [
    "# My calculation:\n",
    "\n",
    "# I will utilize this exercise for computing a calculation I execute frequently in my work in the lab.\n",
    "\n",
    "# In order to quntify mRNA expression level with RT-PCR, after extracting RNA from cells\n",
    "# I need to reverse-transcribe the RNA to cDNA. For that I need to prepare for each sample a tube with final\n",
    "# concentration of 50(ng/ul) of RNA in ultra pure water. \n",
    "\n",
    "# From a NanoDrop instrument I get a list of my samples, and their extracted RNA concentration (ng/ul). \n",
    "# I will organize this data in a dictionary:  \n",
    "NanoDrop_results = {'sample': [1, 2, 3, 4, 5, 6], 'RNA conc.': [197.3, 188.7, 213.8, 200.5, 216.4, 201.4]}\n",
    "\n",
    "for number, conc in zip(NanoDrop_results['sample'], NanoDrop_results['RNA conc.']): \n",
    "    #iterate over both sample number and RNA concentration.\n",
    "    RNA_Vol = 500/conc # calulate the volume of RNA needed to reach 500 ng\n",
    "    UPW_Vol = 10-(RNA_Vol) # calulate the volume of UPW needed to reach 10 ul\n",
    "\n",
    "    # For each sample, print it's number, the volume of RNA required and the additional UPW required\n",
    "    # to complete to 10 ul, rounded to 2 numbers after the decimal. \n",
    "    print(f\"For sample {number}: use {RNA_Vol:.2f} ul RNA and add {UPW_Vol:.2f} ul of UPW.\")\n",
    "    \n",
    "\n",
    "    \n",
    "    \n",
    "    \n",
    "\n",
    "\n",
    "\n"
   ]
  },
  {
   "cell_type": "code",
   "execution_count": null,
   "id": "ca0e3c25-43a2-48e1-968b-434e06aced97",
   "metadata": {},
   "outputs": [],
   "source": []
  },
  {
   "cell_type": "code",
   "execution_count": null,
   "id": "d513fca8-760a-4fde-b7c5-865c7f1b3426",
   "metadata": {},
   "outputs": [],
   "source": []
  }
 ],
 "metadata": {
  "kernelspec": {
   "display_name": "Python 3 (ipykernel)",
   "language": "python",
   "name": "python3"
  },
  "language_info": {
   "codemirror_mode": {
    "name": "ipython",
    "version": 3
   },
   "file_extension": ".py",
   "mimetype": "text/x-python",
   "name": "python",
   "nbconvert_exporter": "python",
   "pygments_lexer": "ipython3",
   "version": "3.13.0"
  }
 },
 "nbformat": 4,
 "nbformat_minor": 5
}
