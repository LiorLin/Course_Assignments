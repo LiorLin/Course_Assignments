{
 "cells": [
  {
   "cell_type": "code",
   "execution_count": null,
   "id": "f497a69f-3f13-4de6-ba4e-6b140e5a51d0",
   "metadata": {},
   "outputs": [],
   "source": [
    "# This is notebook file for assignment 6"
   ]
  },
  {
   "cell_type": "code",
   "execution_count": 19,
   "id": "1cb22eda-ce17-48c4-a487-0f26b8db907c",
   "metadata": {},
   "outputs": [
    {
     "name": "stdout",
     "output_type": "stream",
     "text": [
      "Total number of genes: 24\n"
     ]
    }
   ],
   "source": [
    "# Task 1\n",
    "\n",
    "gene_sequence = \"BRCA1,TP53,EGFR,BRCA1,PTEN,MYC,KRAS,APOE,CFTR,BRCA2,PIK3CA,ALK,ATM,HER2,BRAF,BRCA1,EGFR,TP53,CDH1,ABL1,EGFR,TP53,MYC,BRCA2\"\n",
    "\n",
    "# Split the text into individual genes:\n",
    "gene_sequence_new = gene_sequence.split(\",\")\n",
    "\n",
    "# Count the number of genes\n",
    "num_genes = len(gene_sequence_new)\n",
    "\n",
    "print(f\"Total number of genes: {num_genes}\") "
   ]
  },
  {
   "cell_type": "code",
   "execution_count": 20,
   "id": "bb15195f-5596-440d-a6b8-0973920ef933",
   "metadata": {},
   "outputs": [
    {
     "name": "stdout",
     "output_type": "stream",
     "text": [
      "Gene occurrences: {'BRCA1': 3, 'TP53': 3, 'EGFR': 3, 'PTEN': 1, 'MYC': 2, 'KRAS': 1, 'APOE': 1, 'CFTR': 1, 'BRCA2': 2, 'PIK3CA': 1, 'ALK': 1, 'ATM': 1, 'HER2': 1, 'BRAF': 1, 'CDH1': 1, 'ABL1': 1}\n"
     ]
    }
   ],
   "source": [
    "# Task 2\n",
    "\n",
    "# Initialize an empty dictionary to store gene counts:\n",
    "gene_counts = {}\n",
    "\n",
    "# Loop through each gene in the list:\n",
    "for gene in gene_sequence_new:\n",
    "    if gene in gene_counts:\n",
    "        gene_counts[gene] += 1 #Increment the count for the gene\n",
    "    else:\n",
    "        gene_counts[gene] = 1\n",
    "        \n",
    "print(f\"Gene occurrences: {gene_counts}\")\n"
   ]
  },
  {
   "cell_type": "code",
   "execution_count": 21,
   "id": "16153142-597b-4534-b5a0-f7502b4c81aa",
   "metadata": {},
   "outputs": [
    {
     "name": "stdout",
     "output_type": "stream",
     "text": [
      "BRCA1 appears 3 times.\n",
      "PTEN appears once.\n",
      "EGFR appears 3 times.\n",
      "FOXP3 not found.\n"
     ]
    }
   ],
   "source": [
    "# Task 3\n",
    "\n",
    "# List of specific genes to check:\n",
    "genes_to_check = [\"BRCA1\", \"PTEN\", \"EGFR\", \"FOXP3\"]\n",
    "\n",
    "# Loop through specific genes to check their presence in the gene count dictionary:\n",
    "for gene in genes_to_check:\n",
    "    if gene in gene_counts:\n",
    "        count = gene_counts.get(gene, 0) # Use .get() method to print the count safely with a default value of 0\n",
    "        if count == 1:\n",
    "            print(f\"{gene} appears once.\")\n",
    "        else:\n",
    "          print(f\"{gene} appears {count} times.\")\n",
    "    else:\n",
    "        print(f\"{gene} not found.\")\n"
   ]
  },
  {
   "cell_type": "code",
   "execution_count": 22,
   "id": "0e371500-c520-4125-b098-b37a97c03e3b",
   "metadata": {},
   "outputs": [
    {
     "name": "stdout",
     "output_type": "stream",
     "text": [
      "There are 24 genes in gene_sequence_new.\n",
      "After the addition of new genes, there are 28 genes in gene_sequence_new.\n"
     ]
    }
   ],
   "source": [
    "# Task 4 : \n",
    "\n",
    "print(f\"There are {num_genes} genes in gene_sequence_new.\")\n",
    "\n",
    "# Adding all the elements of new_genes to gene_sequence_new :\n",
    "new_genes = ['SOD1', 'TARDBP', 'ATXN2', 'FUS'] \n",
    "gene_sequence_new.extend(new_genes)\n",
    "\n",
    "print(f\"After the addition of new genes, there are {len(gene_sequence_new)} genes in gene_sequence_new.\")\n",
    "\n",
    "\n"
   ]
  },
  {
   "cell_type": "code",
   "execution_count": null,
   "id": "acc5b6ab-c001-4dd0-b763-139f0d75d706",
   "metadata": {},
   "outputs": [],
   "source": []
  }
 ],
 "metadata": {
  "kernelspec": {
   "display_name": "Python 3 (ipykernel)",
   "language": "python",
   "name": "python3"
  },
  "language_info": {
   "codemirror_mode": {
    "name": "ipython",
    "version": 3
   },
   "file_extension": ".py",
   "mimetype": "text/x-python",
   "name": "python",
   "nbconvert_exporter": "python",
   "pygments_lexer": "ipython3",
   "version": "3.13.0"
  }
 },
 "nbformat": 4,
 "nbformat_minor": 5
}
